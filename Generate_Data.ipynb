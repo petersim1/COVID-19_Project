{
 "cells": [
  {
   "cell_type": "code",
   "execution_count": 1,
   "metadata": {},
   "outputs": [],
   "source": [
    "%matplotlib inline\n",
    "\n",
    "from importlib.machinery import SourceFileLoader\n",
    "import algosdk\n",
    "import numpy as np\n",
    "import pandas as pd\n",
    "import datetime\n",
    "import matplotlib.pyplot as plt\n",
    "import os\n",
    "import re\n",
    "import json\n",
    "import joblib\n",
    "\n",
    "# load custome module from path.\n",
    "covid19_WebScrapes = SourceFileLoader(\"covid19_WebScrapes\", \"./scripts/covid19_WebScrapes.py\").load_module()\n",
    "merge_prep_data = SourceFileLoader(\"merge_data\", \"./scripts/merge_prep_data.py\").load_module()\n",
    "\n",
    "pd.set_option('display.max_columns', None)\n",
    "pd.set_option('display.max_rows', 78)"
   ]
  },
  {
   "cell_type": "markdown",
   "metadata": {},
   "source": [
    "# Read in Cases Data on County Level"
   ]
  },
  {
   "cell_type": "code",
   "execution_count": 2,
   "metadata": {},
   "outputs": [
    {
     "name": "stdout",
     "output_type": "stream",
     "text": [
      "Imputing values where errors in cumulative stats.\n"
     ]
    }
   ],
   "source": [
    "covid19_county_level = covid19_WebScrapes.TestingData_Scraper()\n",
    "\n",
    "Testing_DF = covid19_county_level.Get_Final_DF(Impute = True)"
   ]
  },
  {
   "cell_type": "code",
   "execution_count": 3,
   "metadata": {},
   "outputs": [
    {
     "data": {
      "text/html": [
       "<div>\n",
       "<style scoped>\n",
       "    .dataframe tbody tr th:only-of-type {\n",
       "        vertical-align: middle;\n",
       "    }\n",
       "\n",
       "    .dataframe tbody tr th {\n",
       "        vertical-align: top;\n",
       "    }\n",
       "\n",
       "    .dataframe thead th {\n",
       "        text-align: right;\n",
       "    }\n",
       "</style>\n",
       "<table border=\"1\" class=\"dataframe\">\n",
       "  <thead>\n",
       "    <tr style=\"text-align: right;\">\n",
       "      <th></th>\n",
       "      <th>UID</th>\n",
       "      <th>iso2</th>\n",
       "      <th>iso3</th>\n",
       "      <th>code3</th>\n",
       "      <th>FIPS</th>\n",
       "      <th>Admin2</th>\n",
       "      <th>Province_State</th>\n",
       "      <th>Country_Region</th>\n",
       "      <th>Lat</th>\n",
       "      <th>Long_</th>\n",
       "      <th>Combined_Key</th>\n",
       "      <th>Date</th>\n",
       "      <th>Positive</th>\n",
       "      <th>Deaths</th>\n",
       "    </tr>\n",
       "  </thead>\n",
       "  <tbody>\n",
       "    <tr>\n",
       "      <th>453274</th>\n",
       "      <td>84070016</td>\n",
       "      <td>US</td>\n",
       "      <td>USA</td>\n",
       "      <td>840</td>\n",
       "      <td>NaN</td>\n",
       "      <td>Central Utah</td>\n",
       "      <td>Utah</td>\n",
       "      <td>US</td>\n",
       "      <td>39.372319</td>\n",
       "      <td>-111.575868</td>\n",
       "      <td>Central Utah, Utah, US</td>\n",
       "      <td>6/8/20</td>\n",
       "      <td>51</td>\n",
       "      <td>0</td>\n",
       "    </tr>\n",
       "    <tr>\n",
       "      <th>453275</th>\n",
       "      <td>84070017</td>\n",
       "      <td>US</td>\n",
       "      <td>USA</td>\n",
       "      <td>840</td>\n",
       "      <td>NaN</td>\n",
       "      <td>Southeast Utah</td>\n",
       "      <td>Utah</td>\n",
       "      <td>US</td>\n",
       "      <td>38.996171</td>\n",
       "      <td>-110.701396</td>\n",
       "      <td>Southeast Utah, Utah, US</td>\n",
       "      <td>6/8/20</td>\n",
       "      <td>26</td>\n",
       "      <td>0</td>\n",
       "    </tr>\n",
       "    <tr>\n",
       "      <th>453276</th>\n",
       "      <td>84070018</td>\n",
       "      <td>US</td>\n",
       "      <td>USA</td>\n",
       "      <td>840</td>\n",
       "      <td>NaN</td>\n",
       "      <td>Southwest Utah</td>\n",
       "      <td>Utah</td>\n",
       "      <td>US</td>\n",
       "      <td>37.854472</td>\n",
       "      <td>-111.441876</td>\n",
       "      <td>Southwest Utah, Utah, US</td>\n",
       "      <td>6/8/20</td>\n",
       "      <td>637</td>\n",
       "      <td>4</td>\n",
       "    </tr>\n",
       "    <tr>\n",
       "      <th>453277</th>\n",
       "      <td>84070019</td>\n",
       "      <td>US</td>\n",
       "      <td>USA</td>\n",
       "      <td>840</td>\n",
       "      <td>NaN</td>\n",
       "      <td>TriCounty</td>\n",
       "      <td>Utah</td>\n",
       "      <td>US</td>\n",
       "      <td>40.124915</td>\n",
       "      <td>-109.517442</td>\n",
       "      <td>TriCounty, Utah, US</td>\n",
       "      <td>6/8/20</td>\n",
       "      <td>22</td>\n",
       "      <td>0</td>\n",
       "    </tr>\n",
       "    <tr>\n",
       "      <th>453278</th>\n",
       "      <td>84070020</td>\n",
       "      <td>US</td>\n",
       "      <td>USA</td>\n",
       "      <td>840</td>\n",
       "      <td>NaN</td>\n",
       "      <td>Weber-Morgan</td>\n",
       "      <td>Utah</td>\n",
       "      <td>US</td>\n",
       "      <td>41.271160</td>\n",
       "      <td>-111.914512</td>\n",
       "      <td>Weber-Morgan, Utah, US</td>\n",
       "      <td>6/8/20</td>\n",
       "      <td>397</td>\n",
       "      <td>8</td>\n",
       "    </tr>\n",
       "  </tbody>\n",
       "</table>\n",
       "</div>"
      ],
      "text/plain": [
       "             UID iso2 iso3  code3  FIPS          Admin2 Province_State  \\\n",
       "453274  84070016   US  USA    840   NaN    Central Utah           Utah   \n",
       "453275  84070017   US  USA    840   NaN  Southeast Utah           Utah   \n",
       "453276  84070018   US  USA    840   NaN  Southwest Utah           Utah   \n",
       "453277  84070019   US  USA    840   NaN       TriCounty           Utah   \n",
       "453278  84070020   US  USA    840   NaN    Weber-Morgan           Utah   \n",
       "\n",
       "       Country_Region        Lat       Long_              Combined_Key  \\\n",
       "453274             US  39.372319 -111.575868    Central Utah, Utah, US   \n",
       "453275             US  38.996171 -110.701396  Southeast Utah, Utah, US   \n",
       "453276             US  37.854472 -111.441876  Southwest Utah, Utah, US   \n",
       "453277             US  40.124915 -109.517442       TriCounty, Utah, US   \n",
       "453278             US  41.271160 -111.914512    Weber-Morgan, Utah, US   \n",
       "\n",
       "          Date  Positive  Deaths  \n",
       "453274  6/8/20        51       0  \n",
       "453275  6/8/20        26       0  \n",
       "453276  6/8/20       637       4  \n",
       "453277  6/8/20        22       0  \n",
       "453278  6/8/20       397       8  "
      ]
     },
     "execution_count": 3,
     "metadata": {},
     "output_type": "execute_result"
    }
   ],
   "source": [
    "Testing_DF.tail()"
   ]
  },
  {
   "cell_type": "markdown",
   "metadata": {},
   "source": [
    "# Read in Algorand Blockchain Survey Data"
   ]
  },
  {
   "cell_type": "code",
   "execution_count": 4,
   "metadata": {},
   "outputs": [
    {
     "name": "stdout",
     "output_type": "stream",
     "text": [
      "algod last round: 7105552\n",
      "algod time since last round: 2636393509\n",
      "algod catchup: 0\n",
      "algod latest version: https://github.com/algorandfoundation/specs/tree/e5f565421d720c6f75cdd186f7098495caf9101f\n",
      "####################\n",
      "{'hash': 'ZA2L5ZLBJJSE3TVA7YDQQUJ3WQN67LOZ5TNCBOTLMFGFEWVPPOMQ', 'previousBlockHash': 'IICUM53P34PVMZRNU6RFCAKHGJZLBATYZL4FXSS4UX3OLH4QWJ4A', 'seed': 'IHZU5U5FQFJEJFDAVXS5GCYCFPYEV3B7ODBBCRF5M7GCCYB7KPWQ', 'proposer': '4NRNE5RIGC2UGOMGMDR6L5YMQUV3Q76TPOR7TDU3WEMJLMC6BSBEKPJ2SY', 'round': 7105552, 'period': 0, 'txnRoot': 'KHZD7BBZ5VUQFRXM7PISCJ5QZU2SKNBZAZWNQCGHL4M72IIJKCKQ', 'reward': 125234, 'rate': 26000000, 'frac': 2622520597, 'txns': {'transactions': [{'type': 'pay', 'tx': 'GKRTDY4PTI3MVJZVOB4O27CWQTXWLH6CIH3DOGTH5XT3ZLNJP7UA', 'from': 'PRICEP3G2F5L6ZG5WTJIAKEQW4OJJ3FM4XVFQDZI7M2VBTFVUHTTR2AU2U', 'fee': 1000, 'first-round': 7105550, 'last-round': 7106050, 'noteb64': 'eyJwcmljZV9hbGdvX3VzZCI6MC4yMzYxLCJsYXN0X3RyYWRlX2F0IjoiMjAyMC0wNi0wNlQxNTo0NTowNC45NjUyODVaIiwidGltZXN0YW1wIjoiMjAyMC0wNi0wNlQxNTo1MTo1OC44ODFaIn0=', 'round': 7105552, 'payment': {'to': 'PRICEP3G2F5L6ZG5WTJIAKEQW4OJJ3FM4XVFQDZI7M2VBTFVUHTTR2AU2U', 'amount': 0, 'torewards': 0, 'closerewards': 0}, 'fromrewards': 0, 'genesisID': 'mainnet-v1.0', 'genesishashb64': 'wGHE2Pwdvd7S12BL5FaOP20EGYesN73ktiC1qzkkit8='}, {'type': 'pay', 'tx': 'DGME7GY3EVCRZHYI6CPQVQC6IH2ZK3NPMNDF66XVKBWI5DLD52JQ', 'from': 'PRICEP3G2F5L6ZG5WTJIAKEQW4OJJ3FM4XVFQDZI7M2VBTFVUHTTR2AU2U', 'fee': 1000, 'first-round': 7105550, 'last-round': 7106050, 'noteb64': 'eyJwcmljZV9hbGdvX3VzZCI6MC4yMzYxLCJsYXN0X3RyYWRlX2F0IjoiMjAyMC0wNi0wNlQxNTo0NTowNC45NjUyODVaIiwidGltZXN0YW1wIjoiMjAyMC0wNi0wNlQxNTo1MjowMC44ODBaIn0=', 'round': 7105552, 'payment': {'to': 'PRICEP3G2F5L6ZG5WTJIAKEQW4OJJ3FM4XVFQDZI7M2VBTFVUHTTR2AU2U', 'amount': 0, 'torewards': 0, 'closerewards': 0}, 'fromrewards': 0, 'genesisID': 'mainnet-v1.0', 'genesishashb64': 'wGHE2Pwdvd7S12BL5FaOP20EGYesN73ktiC1qzkkit8='}]}, 'timestamp': 1591458721, 'currentProtocol': 'https://github.com/algorandfoundation/specs/tree/e5f565421d720c6f75cdd186f7098495caf9101f', 'nextProtocol': '', 'nextProtocolApprovals': 0, 'nextProtocolVoteBefore': 0, 'nextProtocolSwitchOn': 0, 'upgradePropose': '', 'upgradeApprove': False}\n",
      "\n",
      " total rounds: 1459552\n"
     ]
    },
    {
     "ename": "AttributeError",
     "evalue": "'list' object has no attribute 'concat'",
     "output_type": "error",
     "traceback": [
      "\u001b[0;31m---------------------------------------------------------------------------\u001b[0m",
      "\u001b[0;31mAttributeError\u001b[0m                            Traceback (most recent call last)",
      "\u001b[0;32m<ipython-input-4-dddf8c85dc21>\u001b[0m in \u001b[0;36m<module>\u001b[0;34m\u001b[0m\n\u001b[1;32m      1\u001b[0m \u001b[0mAPI_KEY\u001b[0m\u001b[0;34m=\u001b[0m\u001b[0mstr\u001b[0m\u001b[0;34m(\u001b[0m\u001b[0mnp\u001b[0m\u001b[0;34m.\u001b[0m\u001b[0mloadtxt\u001b[0m\u001b[0;34m(\u001b[0m\u001b[0;34m'local_var.txt'\u001b[0m\u001b[0;34m,\u001b[0m\u001b[0mdtype\u001b[0m\u001b[0;34m=\u001b[0m\u001b[0mstr\u001b[0m\u001b[0;34m)\u001b[0m\u001b[0;34m)\u001b[0m\u001b[0;34m[\u001b[0m\u001b[0;36m8\u001b[0m\u001b[0;34m:\u001b[0m\u001b[0;34m]\u001b[0m\u001b[0;34m\u001b[0m\u001b[0;34m\u001b[0m\u001b[0m\n\u001b[1;32m      2\u001b[0m \u001b[0;34m\u001b[0m\u001b[0m\n\u001b[0;32m----> 3\u001b[0;31m \u001b[0malg_tx\u001b[0m \u001b[0;34m=\u001b[0m \u001b[0mcovid19_WebScrapes\u001b[0m\u001b[0;34m.\u001b[0m\u001b[0mAlgorand_Scrape\u001b[0m\u001b[0;34m(\u001b[0m\u001b[0mAPI_KEY\u001b[0m\u001b[0;34m)\u001b[0m\u001b[0;34m\u001b[0m\u001b[0;34m\u001b[0m\u001b[0m\n\u001b[0m",
      "\u001b[0;32m~/Documents/NYU/SPRING2020/Courses/DS_GA_1003/COVID-19_Project/scripts/covid19_WebScrapes.py\u001b[0m in \u001b[0;36m__init__\u001b[0;34m(self, api_key)\u001b[0m\n\u001b[1;32m     98\u001b[0m             \u001b[0;32mif\u001b[0m \u001b[0mtoRnd\u001b[0m \u001b[0;34m>\u001b[0m \u001b[0mself\u001b[0m\u001b[0;34m.\u001b[0m\u001b[0mlastRound\u001b[0m\u001b[0;34m:\u001b[0m\u001b[0;34m\u001b[0m\u001b[0;34m\u001b[0m\u001b[0m\n\u001b[1;32m     99\u001b[0m                 \u001b[0mtoRnd\u001b[0m \u001b[0;34m=\u001b[0m \u001b[0mself\u001b[0m\u001b[0;34m.\u001b[0m\u001b[0mlastRound\u001b[0m\u001b[0;34m\u001b[0m\u001b[0;34m\u001b[0m\u001b[0m\n\u001b[0;32m--> 100\u001b[0;31m             \u001b[0mto_add\u001b[0m \u001b[0;34m=\u001b[0m \u001b[0mself\u001b[0m\u001b[0;34m.\u001b[0m\u001b[0mgetTransactionBatch\u001b[0m\u001b[0;34m(\u001b[0m\u001b[0mrnd\u001b[0m\u001b[0;34m,\u001b[0m\u001b[0mtoRnd\u001b[0m\u001b[0;34m)\u001b[0m \u001b[0;31m# Fetch transactions for these rounds\u001b[0m\u001b[0;34m\u001b[0m\u001b[0;34m\u001b[0m\u001b[0m\n\u001b[0m\u001b[1;32m    101\u001b[0m             \u001b[0mself\u001b[0m\u001b[0;34m.\u001b[0m\u001b[0mtxns\u001b[0m\u001b[0;34m.\u001b[0m\u001b[0mextend\u001b[0m\u001b[0;34m(\u001b[0m\u001b[0mto_add\u001b[0m\u001b[0;34m)\u001b[0m\u001b[0;34m\u001b[0m\u001b[0;34m\u001b[0m\u001b[0m\n\u001b[1;32m    102\u001b[0m             \u001b[0mrnd\u001b[0m \u001b[0;34m+=\u001b[0m \u001b[0mbatchSize\u001b[0m\u001b[0;34m\u001b[0m\u001b[0;34m\u001b[0m\u001b[0m\n",
      "\u001b[0;32m~/Documents/NYU/SPRING2020/Courses/DS_GA_1003/COVID-19_Project/scripts/covid19_WebScrapes.py\u001b[0m in \u001b[0;36mgetTransactionBatch\u001b[0;34m(self, fromRnd, toRnd)\u001b[0m\n\u001b[1;32m    185\u001b[0m             \u001b[0mtxns1\u001b[0m \u001b[0;34m=\u001b[0m \u001b[0mself\u001b[0m\u001b[0;34m.\u001b[0m\u001b[0mgetTransactionBatch\u001b[0m\u001b[0;34m(\u001b[0m\u001b[0mfromRnd\u001b[0m\u001b[0;34m,\u001b[0m \u001b[0mmidRnd\u001b[0m\u001b[0;34m)\u001b[0m\u001b[0;34m\u001b[0m\u001b[0;34m\u001b[0m\u001b[0m\n\u001b[1;32m    186\u001b[0m             \u001b[0mtxns2\u001b[0m \u001b[0;34m=\u001b[0m \u001b[0mself\u001b[0m\u001b[0;34m.\u001b[0m\u001b[0mgetTransactionBatch\u001b[0m\u001b[0;34m(\u001b[0m\u001b[0mmidRnd\u001b[0m\u001b[0;34m+\u001b[0m\u001b[0;36m1\u001b[0m\u001b[0;34m,\u001b[0m \u001b[0mtoRnd\u001b[0m\u001b[0;34m)\u001b[0m\u001b[0;34m\u001b[0m\u001b[0;34m\u001b[0m\u001b[0m\n\u001b[0;32m--> 187\u001b[0;31m             \u001b[0;32mreturn\u001b[0m \u001b[0mtxns1\u001b[0m\u001b[0;34m.\u001b[0m\u001b[0mconcat\u001b[0m\u001b[0;34m(\u001b[0m\u001b[0mtxns2\u001b[0m\u001b[0;34m)\u001b[0m\u001b[0;34m\u001b[0m\u001b[0;34m\u001b[0m\u001b[0m\n\u001b[0m\u001b[1;32m    188\u001b[0m \u001b[0;34m\u001b[0m\u001b[0m\n\u001b[1;32m    189\u001b[0m     \u001b[0;32mdef\u001b[0m \u001b[0mget_txns\u001b[0m\u001b[0;34m(\u001b[0m\u001b[0mself\u001b[0m\u001b[0;34m)\u001b[0m \u001b[0;34m:\u001b[0m\u001b[0;34m\u001b[0m\u001b[0;34m\u001b[0m\u001b[0m\n",
      "\u001b[0;31mAttributeError\u001b[0m: 'list' object has no attribute 'concat'"
     ]
    }
   ],
   "source": [
    "API_KEY=str(np.loadtxt('local_var.txt',dtype=str))[8:]\n",
    "\n",
    "alg_tx = covid19_WebScrapes.Algorand_Scrape(API_KEY)"
   ]
  },
  {
   "cell_type": "code",
   "execution_count": null,
   "metadata": {},
   "outputs": [],
   "source": [
    "Survey_DF = alg_tx.Convert_to_DF()"
   ]
  },
  {
   "cell_type": "code",
   "execution_count": null,
   "metadata": {},
   "outputs": [],
   "source": [
    "Survey_DF_trim = Survey_DF[['gc','gr','gzp','ga','gs','sz','tz','tt','tr','mz','qz','q1','q2','q3','q4','ql']]\n",
    "Survey_DF_trim.columns = ['Country','Region','Zip','AgeGroup','Gender','Symptomatic',\n",
    "                          'Tested','Tested_Attempt','Test_Result','Received_Care','Quarantined',\n",
    "                          'Q_Symptoms','Q_Voluntary','Q_Personal','Q_General','Left_Quarantine']\n",
    "Survey_DF_trim.tail()"
   ]
  },
  {
   "cell_type": "markdown",
   "metadata": {},
   "source": [
    "# Read in Wikipedia Area Data"
   ]
  },
  {
   "cell_type": "code",
   "execution_count": 4,
   "metadata": {},
   "outputs": [
    {
     "name": "stdout",
     "output_type": "stream",
     "text": [
      "Alabama,Alaska,Arizona,Arkansas,California,Colorado,Connecticut,Delaware,District of Columbia,Florida,Georgia_(U.S._state),Hawaii,Idaho,Illinois,Indiana,Iowa,Kansas,Kentucky,Louisiana,Maine,Maryland,Massachusetts,Michigan,Minnesota,Mississippi,Missouri,Montana,Nebraska,Nevada,New_Hampshire,New_Jersey,New_Mexico,New_York,North_Carolina,North_Dakota,Ohio,Oklahoma,Oregon,Pennsylvania,Rhode_Island,South_Carolina,South_Dakota,Tennessee,Texas,Utah,Vermont,Virginia,Washington,West_Virginia,Wisconsin,Wyoming,"
     ]
    }
   ],
   "source": [
    "wiki_scraper = covid19_WebScrapes.Wiki_Scrape()\n",
    "\n",
    "county_areas = wiki_scraper.Scrape_Counties()"
   ]
  },
  {
   "cell_type": "code",
   "execution_count": 5,
   "metadata": {},
   "outputs": [],
   "source": [
    "County_Areas = pd.DataFrame(county_areas,columns=['State','County_FIPS','County','Area (sqmi)'])"
   ]
  },
  {
   "cell_type": "code",
   "execution_count": 6,
   "metadata": {},
   "outputs": [],
   "source": [
    "County_Areas['Area (sqmi)'] = County_Areas['Area (sqmi)'] .apply(lambda x : str(x).replace(',',''))\n",
    "County_Areas['Area (sqmi)'] = County_Areas['Area (sqmi)'].astype(float)"
   ]
  },
  {
   "cell_type": "code",
   "execution_count": 7,
   "metadata": {},
   "outputs": [
    {
     "data": {
      "text/html": [
       "<div>\n",
       "<style scoped>\n",
       "    .dataframe tbody tr th:only-of-type {\n",
       "        vertical-align: middle;\n",
       "    }\n",
       "\n",
       "    .dataframe tbody tr th {\n",
       "        vertical-align: top;\n",
       "    }\n",
       "\n",
       "    .dataframe thead th {\n",
       "        text-align: right;\n",
       "    }\n",
       "</style>\n",
       "<table border=\"1\" class=\"dataframe\">\n",
       "  <thead>\n",
       "    <tr style=\"text-align: right;\">\n",
       "      <th></th>\n",
       "      <th>State</th>\n",
       "      <th>County_FIPS</th>\n",
       "      <th>County</th>\n",
       "      <th>Area (sqmi)</th>\n",
       "    </tr>\n",
       "  </thead>\n",
       "  <tbody>\n",
       "    <tr>\n",
       "      <th>0</th>\n",
       "      <td>Alabama</td>\n",
       "      <td>001</td>\n",
       "      <td>Autauga County</td>\n",
       "      <td>594.44</td>\n",
       "    </tr>\n",
       "    <tr>\n",
       "      <th>1</th>\n",
       "      <td>Alabama</td>\n",
       "      <td>003</td>\n",
       "      <td>Baldwin County</td>\n",
       "      <td>1589.78</td>\n",
       "    </tr>\n",
       "    <tr>\n",
       "      <th>2</th>\n",
       "      <td>Alabama</td>\n",
       "      <td>005</td>\n",
       "      <td>Barbour County</td>\n",
       "      <td>884.88</td>\n",
       "    </tr>\n",
       "    <tr>\n",
       "      <th>3</th>\n",
       "      <td>Alabama</td>\n",
       "      <td>007</td>\n",
       "      <td>Bibb County</td>\n",
       "      <td>622.58</td>\n",
       "    </tr>\n",
       "    <tr>\n",
       "      <th>4</th>\n",
       "      <td>Alabama</td>\n",
       "      <td>009</td>\n",
       "      <td>Blount County</td>\n",
       "      <td>644.78</td>\n",
       "    </tr>\n",
       "  </tbody>\n",
       "</table>\n",
       "</div>"
      ],
      "text/plain": [
       "     State County_FIPS          County  Area (sqmi)\n",
       "0  Alabama         001  Autauga County       594.44\n",
       "1  Alabama         003  Baldwin County      1589.78\n",
       "2  Alabama         005  Barbour County       884.88\n",
       "3  Alabama         007     Bibb County       622.58\n",
       "4  Alabama         009   Blount County       644.78"
      ]
     },
     "execution_count": 7,
     "metadata": {},
     "output_type": "execute_result"
    }
   ],
   "source": [
    "County_Areas.head()"
   ]
  },
  {
   "cell_type": "markdown",
   "metadata": {},
   "source": [
    "# Read in Alphabet Location Data"
   ]
  },
  {
   "cell_type": "code",
   "execution_count": 8,
   "metadata": {
    "scrolled": true
   },
   "outputs": [
    {
     "data": {
      "text/html": [
       "<div>\n",
       "<style scoped>\n",
       "    .dataframe tbody tr th:only-of-type {\n",
       "        vertical-align: middle;\n",
       "    }\n",
       "\n",
       "    .dataframe tbody tr th {\n",
       "        vertical-align: top;\n",
       "    }\n",
       "\n",
       "    .dataframe thead th {\n",
       "        text-align: right;\n",
       "    }\n",
       "</style>\n",
       "<table border=\"1\" class=\"dataframe\">\n",
       "  <thead>\n",
       "    <tr style=\"text-align: right;\">\n",
       "      <th></th>\n",
       "      <th>country_region_code</th>\n",
       "      <th>country_region</th>\n",
       "      <th>sub_region_1</th>\n",
       "      <th>sub_region_2</th>\n",
       "      <th>date</th>\n",
       "      <th>retail_and_recreation_percent_change_from_baseline</th>\n",
       "      <th>grocery_and_pharmacy_percent_change_from_baseline</th>\n",
       "      <th>parks_percent_change_from_baseline</th>\n",
       "      <th>transit_stations_percent_change_from_baseline</th>\n",
       "      <th>workplaces_percent_change_from_baseline</th>\n",
       "      <th>residential_percent_change_from_baseline</th>\n",
       "    </tr>\n",
       "  </thead>\n",
       "  <tbody>\n",
       "    <tr>\n",
       "      <th>196822</th>\n",
       "      <td>US</td>\n",
       "      <td>United States</td>\n",
       "      <td>Alabama</td>\n",
       "      <td>Autauga County</td>\n",
       "      <td>02/15/20</td>\n",
       "      <td>5.0</td>\n",
       "      <td>7.0</td>\n",
       "      <td>NaN</td>\n",
       "      <td>NaN</td>\n",
       "      <td>-4.0</td>\n",
       "      <td>NaN</td>\n",
       "    </tr>\n",
       "    <tr>\n",
       "      <th>196823</th>\n",
       "      <td>US</td>\n",
       "      <td>United States</td>\n",
       "      <td>Alabama</td>\n",
       "      <td>Autauga County</td>\n",
       "      <td>02/16/20</td>\n",
       "      <td>0.0</td>\n",
       "      <td>1.0</td>\n",
       "      <td>-23.0</td>\n",
       "      <td>NaN</td>\n",
       "      <td>-4.0</td>\n",
       "      <td>NaN</td>\n",
       "    </tr>\n",
       "    <tr>\n",
       "      <th>196824</th>\n",
       "      <td>US</td>\n",
       "      <td>United States</td>\n",
       "      <td>Alabama</td>\n",
       "      <td>Autauga County</td>\n",
       "      <td>02/17/20</td>\n",
       "      <td>8.0</td>\n",
       "      <td>0.0</td>\n",
       "      <td>NaN</td>\n",
       "      <td>NaN</td>\n",
       "      <td>-27.0</td>\n",
       "      <td>5.0</td>\n",
       "    </tr>\n",
       "    <tr>\n",
       "      <th>196825</th>\n",
       "      <td>US</td>\n",
       "      <td>United States</td>\n",
       "      <td>Alabama</td>\n",
       "      <td>Autauga County</td>\n",
       "      <td>02/18/20</td>\n",
       "      <td>-2.0</td>\n",
       "      <td>0.0</td>\n",
       "      <td>NaN</td>\n",
       "      <td>NaN</td>\n",
       "      <td>2.0</td>\n",
       "      <td>0.0</td>\n",
       "    </tr>\n",
       "    <tr>\n",
       "      <th>196826</th>\n",
       "      <td>US</td>\n",
       "      <td>United States</td>\n",
       "      <td>Alabama</td>\n",
       "      <td>Autauga County</td>\n",
       "      <td>02/19/20</td>\n",
       "      <td>-2.0</td>\n",
       "      <td>0.0</td>\n",
       "      <td>NaN</td>\n",
       "      <td>NaN</td>\n",
       "      <td>2.0</td>\n",
       "      <td>0.0</td>\n",
       "    </tr>\n",
       "  </tbody>\n",
       "</table>\n",
       "</div>"
      ],
      "text/plain": [
       "       country_region_code country_region sub_region_1    sub_region_2  \\\n",
       "196822                  US  United States      Alabama  Autauga County   \n",
       "196823                  US  United States      Alabama  Autauga County   \n",
       "196824                  US  United States      Alabama  Autauga County   \n",
       "196825                  US  United States      Alabama  Autauga County   \n",
       "196826                  US  United States      Alabama  Autauga County   \n",
       "\n",
       "            date  retail_and_recreation_percent_change_from_baseline  \\\n",
       "196822  02/15/20                                                5.0    \n",
       "196823  02/16/20                                                0.0    \n",
       "196824  02/17/20                                                8.0    \n",
       "196825  02/18/20                                               -2.0    \n",
       "196826  02/19/20                                               -2.0    \n",
       "\n",
       "        grocery_and_pharmacy_percent_change_from_baseline  \\\n",
       "196822                                                7.0   \n",
       "196823                                                1.0   \n",
       "196824                                                0.0   \n",
       "196825                                                0.0   \n",
       "196826                                                0.0   \n",
       "\n",
       "        parks_percent_change_from_baseline  \\\n",
       "196822                                 NaN   \n",
       "196823                               -23.0   \n",
       "196824                                 NaN   \n",
       "196825                                 NaN   \n",
       "196826                                 NaN   \n",
       "\n",
       "        transit_stations_percent_change_from_baseline  \\\n",
       "196822                                            NaN   \n",
       "196823                                            NaN   \n",
       "196824                                            NaN   \n",
       "196825                                            NaN   \n",
       "196826                                            NaN   \n",
       "\n",
       "        workplaces_percent_change_from_baseline  \\\n",
       "196822                                     -4.0   \n",
       "196823                                     -4.0   \n",
       "196824                                    -27.0   \n",
       "196825                                      2.0   \n",
       "196826                                      2.0   \n",
       "\n",
       "        residential_percent_change_from_baseline  \n",
       "196822                                       NaN  \n",
       "196823                                       NaN  \n",
       "196824                                       5.0  \n",
       "196825                                       0.0  \n",
       "196826                                       0.0  "
      ]
     },
     "execution_count": 8,
     "metadata": {},
     "output_type": "execute_result"
    }
   ],
   "source": [
    "google = covid19_WebScrapes.Alphabet_Scrape_V2()\n",
    "\n",
    "google_df = google.get_Data(country='United States',country_only=False,state_only=False) #pulls county info only\n",
    "\n",
    "google_df.head()"
   ]
  },
  {
   "cell_type": "markdown",
   "metadata": {},
   "source": [
    "# Clean Dataframes, Add FIPS ID's"
   ]
  },
  {
   "cell_type": "code",
   "execution_count": 9,
   "metadata": {},
   "outputs": [],
   "source": [
    "data_cleaner = covid19_WebScrapes.Clean_Data('manually_pulled/FIPS_Codes_USDA.csv',\n",
    "                                             'manually_pulled/new_state_mapping.txt')\n",
    "\n",
    "area_data_cleaned = data_cleaner.Clean_Area_Data(County_Areas)\n",
    "test_data_cleaned = data_cleaner.Clean_Cases_Data(Testing_DF)\n",
    "google_data_cleaned = data_cleaner.Clean_Loc_Data(google_df)"
   ]
  },
  {
   "cell_type": "markdown",
   "metadata": {},
   "source": [
    "# Write out dataframes"
   ]
  },
  {
   "cell_type": "code",
   "execution_count": 10,
   "metadata": {},
   "outputs": [],
   "source": [
    "folder_name = datetime.datetime.strftime(datetime.datetime.today(),'%d%b%y')\n",
    "os.mkdir('Processed_Data/'+folder_name)\n",
    "\n",
    "test_data_cleaned.to_csv('Processed_Data/'+folder_name+'/CountyLevel_Cases_Cleaned.csv',index=False)\n",
    "#Survey_DF_trim.to_csv('Processed_Data/'+folder_name+'/Survey_Data.csv',index=False)\n",
    "area_data_cleaned.to_csv('Processed_Data/'+folder_name+'/CountyLevel_Areas_Cleaned.csv',index=False)\n",
    "google_data_cleaned.to_csv('Processed_Data/'+folder_name+'/CountyLevel_Google_LocData_Cleaned.csv',index=False)"
   ]
  },
  {
   "cell_type": "markdown",
   "metadata": {},
   "source": [
    "# Now Merge Data and Engineer some features"
   ]
  },
  {
   "cell_type": "code",
   "execution_count": 11,
   "metadata": {},
   "outputs": [],
   "source": [
    "data_merger = merge_prep_data.Merge_Data()\n",
    "\n",
    "merged_census_data = data_merger.Merge_Census_Data()\n",
    "merged_scraped_data = data_merger.Merge_Scraped_Data()\n",
    "\n",
    "final_merge = data_merger.MERGE_ALL(merged_scraped_data,merged_census_data)"
   ]
  },
  {
   "cell_type": "code",
   "execution_count": 12,
   "metadata": {},
   "outputs": [],
   "source": [
    "cols_remove = ['State_x','County_FIPS','County','Name','UID','iso2','iso3','code3','Province_State',\n",
    "               'Country_Region','Combined_Key','country_region_code','country_region','sub_region_1',\n",
    "               'sub_region_2','date','unique_id','State_y','STATE_FIPS','Unnamed: 0','county','state_FIPS',\n",
    "              'county_fips']\n",
    "\n",
    "final_merge.drop(cols_remove,axis=1,inplace=True)"
   ]
  },
  {
   "cell_type": "code",
   "execution_count": 13,
   "metadata": {},
   "outputs": [
    {
     "name": "stdout",
     "output_type": "stream",
     "text": [
      "Adding Proximity Logic...\n",
      "Normalizing Stats , lagging features...\n",
      "Interpolating Data...\n",
      "retail_and_recreation_percent_change_from_baseline\n"
     ]
    },
    {
     "name": "stderr",
     "output_type": "stream",
     "text": [
      "./scripts/merge_prep_data.py:235: SettingWithCopyWarning: \n",
      "A value is trying to be set on a copy of a slice from a DataFrame.\n",
      "Try using .loc[row_indexer,col_indexer] = value instead\n",
      "\n",
      "See the caveats in the documentation: https://pandas.pydata.org/pandas-docs/stable/user_guide/indexing.html#returning-a-view-versus-a-copy\n",
      "  DF[col] = DF.groupby('state')[col].apply(lambda group: group.interpolate(method=stat_fill_method,axis=0).ffill().bfill())\n"
     ]
    },
    {
     "name": "stdout",
     "output_type": "stream",
     "text": [
      "grocery_and_pharmacy_percent_change_from_baseline\n",
      "parks_percent_change_from_baseline\n",
      "transit_stations_percent_change_from_baseline\n",
      "workplaces_percent_change_from_baseline\n",
      "residential_percent_change_from_baseline\n"
     ]
    },
    {
     "name": "stderr",
     "output_type": "stream",
     "text": [
      "/Users/petersimone/anaconda3/lib/python3.6/site-packages/pandas/core/indexing.py:966: SettingWithCopyWarning: \n",
      "A value is trying to be set on a copy of a slice from a DataFrame.\n",
      "Try using .loc[row_indexer,col_indexer] = value instead\n",
      "\n",
      "See the caveats in the documentation: https://pandas.pydata.org/pandas-docs/stable/user_guide/indexing.html#returning-a-view-versus-a-copy\n",
      "  self.obj[item] = s\n",
      "./scripts/merge_prep_data.py:239: SettingWithCopyWarning: \n",
      "A value is trying to be set on a copy of a slice from a DataFrame.\n",
      "Try using .loc[row_indexer,col_indexer] = value instead\n",
      "\n",
      "See the caveats in the documentation: https://pandas.pydata.org/pandas-docs/stable/user_guide/indexing.html#returning-a-view-versus-a-copy\n",
      "  DF[col] = DF.groupby('state')[col].apply(lambda group: group.interpolate(method=stat_fill_method,axis=0,).ffill().bfill())\n",
      "./scripts/merge_prep_data.py:159: SettingWithCopyWarning: \n",
      "A value is trying to be set on a copy of a slice from a DataFrame.\n",
      "Try using .loc[row_indexer,col_indexer] = value instead\n",
      "\n",
      "See the caveats in the documentation: https://pandas.pydata.org/pandas-docs/stable/user_guide/indexing.html#returning-a-view-versus-a-copy\n",
      "  DF[col] = DF[col].astype(float)\n"
     ]
    },
    {
     "name": "stdout",
     "output_type": "stream",
     "text": [
      "Couldn't convert Admin2 to float\n",
      "Couldn't convert Date to float\n",
      "Couldn't convert state to float\n",
      "Couldn't convert Closest_Big_City to float\n"
     ]
    }
   ],
   "source": [
    "engineer_feats = merge_prep_data.Engineer_Feats(datatype_write_loc='Merged_Data/data_types.json')\n",
    "\n",
    "DF_out = engineer_feats.Apply_Logic(final_merge)"
   ]
  },
  {
   "cell_type": "code",
   "execution_count": 14,
   "metadata": {},
   "outputs": [],
   "source": [
    "cols_keep = ['FIPS','state','Admin2','Lat','Long_','Date',\n",
    "             'Positive','Deaths','Positive_Cases_PopNormed','Deaths_PopNormed',\n",
    "             'New_Positive_Cases_PopNormed_Lagged',\n",
    "             'New_Positive_Cases_PopNormed',\n",
    "             'Area (sqmi)','population','Proximity','Population_Density','Percent_in_Workforce',\n",
    "             'Households_per_SqMile',\n",
    "             'retail_and_recreation_percent_change_from_baseline',\n",
    "             'grocery_and_pharmacy_percent_change_from_baseline',\n",
    "             'parks_percent_change_from_baseline',\n",
    "             'transit_stations_percent_change_from_baseline',\n",
    "             'workplaces_percent_change_from_baseline',\n",
    "             'residential_percent_change_from_baseline',\n",
    "             'Mass gathering restrictions', 'Initial business closure',\n",
    "             'Educational facilities closed', 'Non-essential services closed',\n",
    "             'Stay at home order', 'Travel severely limited',\n",
    "             '%_family_households', '%_single_male_households',\n",
    "             '%_single_female_households', '%_living_alone',\n",
    "             'total_household_income', 'household_income_less_than_25_years',\n",
    "             'household_income_25_to_45_years', 'household_income_45_to_65_years',\n",
    "             'household_income_65_and_older',\n",
    "             '%_households_with_earnings_last12',\n",
    "             '%_households_with_no_earnings_last12', '%_in_poverty',\n",
    "             '%_in_poverty_18_to_59', '%_in_poverty_60_to_74',\n",
    "             '%_in_poverty_75_to_85',\n",
    "             '%_white', '%_black',\n",
    "             '$_other_race', \n",
    "             '%_male', '%_female', \n",
    "             '%_male_pop_greater_than_60','%_female_pop_greater_than_60',\n",
    "             '%_workers_less_than_15_to_work', '%_workers_15_to_45_to_work',\n",
    "             '%_workers_greater_than_45_to_work',\n",
    "             '%_drive_alone_to_work', '%_carpool_to_work',\n",
    "             '%_public_transit_to_work', '%_bus_trolley_to_work', '%_walked_to_work',\n",
    "             '%_cab_other_means_of_transportation_to_work','jail_incarceration_rate_per_100k']"
   ]
  },
  {
   "cell_type": "code",
   "execution_count": 15,
   "metadata": {},
   "outputs": [],
   "source": [
    "DF_write = DF_out[cols_keep]"
   ]
  },
  {
   "cell_type": "code",
   "execution_count": 16,
   "metadata": {},
   "outputs": [],
   "source": [
    "engineer_feats.write_out_json(DF_write)"
   ]
  },
  {
   "cell_type": "code",
   "execution_count": 17,
   "metadata": {},
   "outputs": [
    {
     "name": "stdout",
     "output_type": "stream",
     "text": [
      "splitting dataframes for Github push purposes\n"
     ]
    }
   ],
   "source": [
    "folder_name = datetime.datetime.strftime(datetime.datetime.today(),'%d%b%y')\n",
    "if not os.path.exists('Merged_Data/'+folder_name) :\n",
    "    os.mkdir('Merged_Data/'+folder_name)\n",
    "    \n",
    "memory_use = DF_write.memory_usage(deep=True,index=False).sum()    \n",
    "\n",
    "if memory_use > 1e8 :\n",
    "    print('splitting dataframes for Github push purposes')\n",
    "    break_val = int((DF_write.shape[0] * 45000000)/memory_use)\n",
    "    for i in range(int(np.ceil(DF_write.shape[0]/break_val))) :\n",
    "        name_write = 'Merged_Data/'+folder_name+'/Final_Merged_Pt{}.csv'.format(i+1)\n",
    "        chunk_write = DF_write.iloc[break_val*i : break_val*(i+1)]\n",
    "        chunk_write.to_csv(name_write,index=False)\n",
    "else :\n",
    "    DF_write.to_csv('Merged_Data/'+folder_name+'/Final_Merged.csv',index=False) #write out csv file"
   ]
  },
  {
   "cell_type": "code",
   "execution_count": null,
   "metadata": {},
   "outputs": [],
   "source": []
  }
 ],
 "metadata": {
  "kernelspec": {
   "display_name": "Python 3",
   "language": "python",
   "name": "python3"
  },
  "language_info": {
   "codemirror_mode": {
    "name": "ipython",
    "version": 3
   },
   "file_extension": ".py",
   "mimetype": "text/x-python",
   "name": "python",
   "nbconvert_exporter": "python",
   "pygments_lexer": "ipython3",
   "version": "3.6.8"
  }
 },
 "nbformat": 4,
 "nbformat_minor": 4
}
