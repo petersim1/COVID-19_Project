{
 "cells": [
  {
   "cell_type": "code",
   "execution_count": 2,
   "metadata": {},
   "outputs": [],
   "source": [
    "%matplotlib inline\n",
    "\n",
    "from importlib.machinery import SourceFileLoader\n",
    "import algosdk\n",
    "import numpy as np\n",
    "import pandas as pd\n",
    "import datetime\n",
    "import matplotlib.pyplot as plt\n",
    "import os\n",
    "import re\n",
    "import json\n",
    "import joblib\n",
    "\n",
    "# load custome module from path.\n",
    "covid19_WebScrapes = SourceFileLoader(\"covid19_WebScrapes\", \"./scripts/covid19_WebScrapes.py\").load_module()\n",
    "merge_prep_data = SourceFileLoader(\"merge_data\", \"./scripts/merge_prep_data.py\").load_module()\n",
    "\n",
    "pd.set_option('display.max_columns', None)\n",
    "pd.set_option('display.max_rows', 78)"
   ]
  },
  {
   "cell_type": "markdown",
   "metadata": {},
   "source": [
    "# Read in Cases Data on County Level"
   ]
  },
  {
   "cell_type": "code",
   "execution_count": 2,
   "metadata": {},
   "outputs": [
    {
     "name": "stdout",
     "output_type": "stream",
     "text": [
      "Imputing values where errors in cumulative stats.\n"
     ]
    }
   ],
   "source": [
    "covid19_county_level = covid19_WebScrapes.TestingData_Scraper()\n",
    "\n",
    "Testing_DF = covid19_county_level.Get_Final_DF(Impute = True)"
   ]
  },
  {
   "cell_type": "code",
   "execution_count": 3,
   "metadata": {},
   "outputs": [
    {
     "data": {
      "text/html": [
       "<div>\n",
       "<style scoped>\n",
       "    .dataframe tbody tr th:only-of-type {\n",
       "        vertical-align: middle;\n",
       "    }\n",
       "\n",
       "    .dataframe tbody tr th {\n",
       "        vertical-align: top;\n",
       "    }\n",
       "\n",
       "    .dataframe thead th {\n",
       "        text-align: right;\n",
       "    }\n",
       "</style>\n",
       "<table border=\"1\" class=\"dataframe\">\n",
       "  <thead>\n",
       "    <tr style=\"text-align: right;\">\n",
       "      <th></th>\n",
       "      <th>UID</th>\n",
       "      <th>iso2</th>\n",
       "      <th>iso3</th>\n",
       "      <th>code3</th>\n",
       "      <th>FIPS</th>\n",
       "      <th>Admin2</th>\n",
       "      <th>Province_State</th>\n",
       "      <th>Country_Region</th>\n",
       "      <th>Lat</th>\n",
       "      <th>Long_</th>\n",
       "      <th>Combined_Key</th>\n",
       "      <th>Date</th>\n",
       "      <th>Positive</th>\n",
       "      <th>Deaths</th>\n",
       "    </tr>\n",
       "  </thead>\n",
       "  <tbody>\n",
       "    <tr>\n",
       "      <th>384793</th>\n",
       "      <td>84070016</td>\n",
       "      <td>US</td>\n",
       "      <td>USA</td>\n",
       "      <td>840</td>\n",
       "      <td>NaN</td>\n",
       "      <td>Central Utah</td>\n",
       "      <td>Utah</td>\n",
       "      <td>US</td>\n",
       "      <td>39.372319</td>\n",
       "      <td>-111.575868</td>\n",
       "      <td>Central Utah, Utah, US</td>\n",
       "      <td>5/18/20</td>\n",
       "      <td>30</td>\n",
       "      <td>0</td>\n",
       "    </tr>\n",
       "    <tr>\n",
       "      <th>384794</th>\n",
       "      <td>84070017</td>\n",
       "      <td>US</td>\n",
       "      <td>USA</td>\n",
       "      <td>840</td>\n",
       "      <td>NaN</td>\n",
       "      <td>Southeast Utah</td>\n",
       "      <td>Utah</td>\n",
       "      <td>US</td>\n",
       "      <td>38.996171</td>\n",
       "      <td>-110.701396</td>\n",
       "      <td>Southeast Utah, Utah, US</td>\n",
       "      <td>5/18/20</td>\n",
       "      <td>15</td>\n",
       "      <td>0</td>\n",
       "    </tr>\n",
       "    <tr>\n",
       "      <th>384795</th>\n",
       "      <td>84070018</td>\n",
       "      <td>US</td>\n",
       "      <td>USA</td>\n",
       "      <td>840</td>\n",
       "      <td>NaN</td>\n",
       "      <td>Southwest Utah</td>\n",
       "      <td>Utah</td>\n",
       "      <td>US</td>\n",
       "      <td>37.854472</td>\n",
       "      <td>-111.441876</td>\n",
       "      <td>Southwest Utah, Utah, US</td>\n",
       "      <td>5/18/20</td>\n",
       "      <td>236</td>\n",
       "      <td>3</td>\n",
       "    </tr>\n",
       "    <tr>\n",
       "      <th>384796</th>\n",
       "      <td>84070019</td>\n",
       "      <td>US</td>\n",
       "      <td>USA</td>\n",
       "      <td>840</td>\n",
       "      <td>NaN</td>\n",
       "      <td>TriCounty</td>\n",
       "      <td>Utah</td>\n",
       "      <td>US</td>\n",
       "      <td>40.124915</td>\n",
       "      <td>-109.517442</td>\n",
       "      <td>TriCounty, Utah, US</td>\n",
       "      <td>5/18/20</td>\n",
       "      <td>22</td>\n",
       "      <td>0</td>\n",
       "    </tr>\n",
       "    <tr>\n",
       "      <th>384797</th>\n",
       "      <td>84070020</td>\n",
       "      <td>US</td>\n",
       "      <td>USA</td>\n",
       "      <td>840</td>\n",
       "      <td>NaN</td>\n",
       "      <td>Weber-Morgan</td>\n",
       "      <td>Utah</td>\n",
       "      <td>US</td>\n",
       "      <td>41.271160</td>\n",
       "      <td>-111.914512</td>\n",
       "      <td>Weber-Morgan, Utah, US</td>\n",
       "      <td>5/18/20</td>\n",
       "      <td>234</td>\n",
       "      <td>3</td>\n",
       "    </tr>\n",
       "  </tbody>\n",
       "</table>\n",
       "</div>"
      ],
      "text/plain": [
       "             UID iso2 iso3  code3  FIPS          Admin2 Province_State  \\\n",
       "384793  84070016   US  USA    840   NaN    Central Utah           Utah   \n",
       "384794  84070017   US  USA    840   NaN  Southeast Utah           Utah   \n",
       "384795  84070018   US  USA    840   NaN  Southwest Utah           Utah   \n",
       "384796  84070019   US  USA    840   NaN       TriCounty           Utah   \n",
       "384797  84070020   US  USA    840   NaN    Weber-Morgan           Utah   \n",
       "\n",
       "       Country_Region        Lat       Long_              Combined_Key  \\\n",
       "384793             US  39.372319 -111.575868    Central Utah, Utah, US   \n",
       "384794             US  38.996171 -110.701396  Southeast Utah, Utah, US   \n",
       "384795             US  37.854472 -111.441876  Southwest Utah, Utah, US   \n",
       "384796             US  40.124915 -109.517442       TriCounty, Utah, US   \n",
       "384797             US  41.271160 -111.914512    Weber-Morgan, Utah, US   \n",
       "\n",
       "           Date  Positive  Deaths  \n",
       "384793  5/18/20        30       0  \n",
       "384794  5/18/20        15       0  \n",
       "384795  5/18/20       236       3  \n",
       "384796  5/18/20        22       0  \n",
       "384797  5/18/20       234       3  "
      ]
     },
     "execution_count": 3,
     "metadata": {},
     "output_type": "execute_result"
    }
   ],
   "source": [
    "Testing_DF.tail()"
   ]
  },
  {
   "cell_type": "markdown",
   "metadata": {},
   "source": [
    "# Read in Algorand Blockchain Survey Data"
   ]
  },
  {
   "cell_type": "code",
   "execution_count": 4,
   "metadata": {},
   "outputs": [
    {
     "name": "stdout",
     "output_type": "stream",
     "text": [
      "algod last round: 6761408\n",
      "algod time since last round: 385096693\n",
      "algod catchup: 0\n",
      "algod latest version: https://github.com/algorandfoundation/specs/tree/8096e2df2da75c3339986317f9abe69d4fa86b4b\n",
      "####################\n",
      "{'hash': 'H7USWABILCOKRZB3TDLUCTZGG23H2FBGKQ3VVXRW4GZDFFTVHZ3Q', 'previousBlockHash': 'WQJUIOVJ6KNSSO22LXDSTYBS6G6BINXDAJBSBZQGDHMXJAPSLNSA', 'seed': 'R5WJROFK7OOJUT4DIKGQYJXECXHS7I7E6753CVGBIDP4UWOCGBWQ', 'proposer': '4ZODDDUGJIOXZF6GMV42OG3I3ZDPUTAZIM5UBQWZUHPKIYCX7RKEOHXSTY', 'round': 6761408, 'period': 0, 'txnRoot': 'WRS2VL2OQ5LPWBYLNBCZV3MEQ4DACSRDES6IUKHGOWYQERJRWC5A', 'reward': 122387, 'rate': 26000001, 'frac': 863288133, 'txns': {}, 'timestamp': 1589937828, 'currentProtocol': 'https://github.com/algorandfoundation/specs/tree/8096e2df2da75c3339986317f9abe69d4fa86b4b', 'nextProtocol': 'https://github.com/algorandfoundation/specs/tree/e5f565421d720c6f75cdd186f7098495caf9101f', 'nextProtocolApprovals': 10000, 'nextProtocolVoteBefore': 6708531, 'nextProtocolSwitchOn': 6848531, 'upgradePropose': '', 'upgradeApprove': False}\n",
      "\n",
      " total rounds: 1115408\n",
      "found 20069 transactions\n"
     ]
    }
   ],
   "source": [
    "API_KEY=str(np.loadtxt('local_var.txt',dtype=str))[8:]\n",
    "\n",
    "alg_tx = covid19_WebScrapes.Algorand_Scrape(API_KEY)"
   ]
  },
  {
   "cell_type": "code",
   "execution_count": 5,
   "metadata": {},
   "outputs": [],
   "source": [
    "Survey_DF = alg_tx.Convert_to_DF()"
   ]
  },
  {
   "cell_type": "code",
   "execution_count": 6,
   "metadata": {},
   "outputs": [
    {
     "data": {
      "text/html": [
       "<div>\n",
       "<style scoped>\n",
       "    .dataframe tbody tr th:only-of-type {\n",
       "        vertical-align: middle;\n",
       "    }\n",
       "\n",
       "    .dataframe tbody tr th {\n",
       "        vertical-align: top;\n",
       "    }\n",
       "\n",
       "    .dataframe thead th {\n",
       "        text-align: right;\n",
       "    }\n",
       "</style>\n",
       "<table border=\"1\" class=\"dataframe\">\n",
       "  <thead>\n",
       "    <tr style=\"text-align: right;\">\n",
       "      <th></th>\n",
       "      <th>Country</th>\n",
       "      <th>Region</th>\n",
       "      <th>Zip</th>\n",
       "      <th>AgeGroup</th>\n",
       "      <th>Gender</th>\n",
       "      <th>Symptomatic</th>\n",
       "      <th>Tested</th>\n",
       "      <th>Tested_Attempt</th>\n",
       "      <th>Test_Result</th>\n",
       "      <th>Received_Care</th>\n",
       "      <th>Quarantined</th>\n",
       "      <th>Q_Symptoms</th>\n",
       "      <th>Q_Voluntary</th>\n",
       "      <th>Q_Personal</th>\n",
       "      <th>Q_General</th>\n",
       "      <th>Left_Quarantine</th>\n",
       "    </tr>\n",
       "  </thead>\n",
       "  <tbody>\n",
       "    <tr>\n",
       "      <th>20064</th>\n",
       "      <td>BR</td>\n",
       "      <td>SP</td>\n",
       "      <td>None</td>\n",
       "      <td>50</td>\n",
       "      <td>m</td>\n",
       "      <td>-1</td>\n",
       "      <td>-1</td>\n",
       "      <td>None</td>\n",
       "      <td>None</td>\n",
       "      <td>-1</td>\n",
       "      <td>1</td>\n",
       "      <td>None</td>\n",
       "      <td>None</td>\n",
       "      <td>None</td>\n",
       "      <td>True</td>\n",
       "      <td>1</td>\n",
       "    </tr>\n",
       "    <tr>\n",
       "      <th>20065</th>\n",
       "      <td>CN</td>\n",
       "      <td>37</td>\n",
       "      <td>None</td>\n",
       "      <td>30</td>\n",
       "      <td>m</td>\n",
       "      <td>-1</td>\n",
       "      <td>-1</td>\n",
       "      <td>None</td>\n",
       "      <td>None</td>\n",
       "      <td>-1</td>\n",
       "      <td>-1</td>\n",
       "      <td>None</td>\n",
       "      <td>None</td>\n",
       "      <td>None</td>\n",
       "      <td>None</td>\n",
       "      <td>None</td>\n",
       "    </tr>\n",
       "    <tr>\n",
       "      <th>20066</th>\n",
       "      <td>BR</td>\n",
       "      <td>CE</td>\n",
       "      <td>None</td>\n",
       "      <td>20</td>\n",
       "      <td>f</td>\n",
       "      <td>-1</td>\n",
       "      <td>-1</td>\n",
       "      <td>None</td>\n",
       "      <td>None</td>\n",
       "      <td>-1</td>\n",
       "      <td>1</td>\n",
       "      <td>None</td>\n",
       "      <td>None</td>\n",
       "      <td>None</td>\n",
       "      <td>True</td>\n",
       "      <td>1</td>\n",
       "    </tr>\n",
       "    <tr>\n",
       "      <th>20067</th>\n",
       "      <td>CN</td>\n",
       "      <td>50</td>\n",
       "      <td>None</td>\n",
       "      <td>30</td>\n",
       "      <td>f</td>\n",
       "      <td>-1</td>\n",
       "      <td>-1</td>\n",
       "      <td>None</td>\n",
       "      <td>None</td>\n",
       "      <td>-1</td>\n",
       "      <td>-1</td>\n",
       "      <td>None</td>\n",
       "      <td>None</td>\n",
       "      <td>None</td>\n",
       "      <td>None</td>\n",
       "      <td>None</td>\n",
       "    </tr>\n",
       "    <tr>\n",
       "      <th>20068</th>\n",
       "      <td>CN</td>\n",
       "      <td>51</td>\n",
       "      <td>None</td>\n",
       "      <td>40</td>\n",
       "      <td>f</td>\n",
       "      <td>-1</td>\n",
       "      <td>-1</td>\n",
       "      <td>None</td>\n",
       "      <td>None</td>\n",
       "      <td>-1</td>\n",
       "      <td>-1</td>\n",
       "      <td>None</td>\n",
       "      <td>None</td>\n",
       "      <td>None</td>\n",
       "      <td>None</td>\n",
       "      <td>None</td>\n",
       "    </tr>\n",
       "  </tbody>\n",
       "</table>\n",
       "</div>"
      ],
      "text/plain": [
       "      Country Region   Zip AgeGroup Gender Symptomatic Tested Tested_Attempt  \\\n",
       "20064      BR     SP  None       50      m          -1     -1           None   \n",
       "20065      CN     37  None       30      m          -1     -1           None   \n",
       "20066      BR     CE  None       20      f          -1     -1           None   \n",
       "20067      CN     50  None       30      f          -1     -1           None   \n",
       "20068      CN     51  None       40      f          -1     -1           None   \n",
       "\n",
       "      Test_Result Received_Care Quarantined Q_Symptoms Q_Voluntary Q_Personal  \\\n",
       "20064        None            -1           1       None        None       None   \n",
       "20065        None            -1          -1       None        None       None   \n",
       "20066        None            -1           1       None        None       None   \n",
       "20067        None            -1          -1       None        None       None   \n",
       "20068        None            -1          -1       None        None       None   \n",
       "\n",
       "      Q_General Left_Quarantine  \n",
       "20064      True               1  \n",
       "20065      None            None  \n",
       "20066      True               1  \n",
       "20067      None            None  \n",
       "20068      None            None  "
      ]
     },
     "execution_count": 6,
     "metadata": {},
     "output_type": "execute_result"
    }
   ],
   "source": [
    "Survey_DF_trim = Survey_DF[['gc','gr','gzp','ga','gs','sz','tz','tt','tr','mz','qz','q1','q2','q3','q4','ql']]\n",
    "Survey_DF_trim.columns = ['Country','Region','Zip','AgeGroup','Gender','Symptomatic',\n",
    "                          'Tested','Tested_Attempt','Test_Result','Received_Care','Quarantined',\n",
    "                          'Q_Symptoms','Q_Voluntary','Q_Personal','Q_General','Left_Quarantine']\n",
    "Survey_DF_trim.tail()"
   ]
  },
  {
   "cell_type": "markdown",
   "metadata": {},
   "source": [
    "# Read in Wikipedia Area Data"
   ]
  },
  {
   "cell_type": "code",
   "execution_count": 7,
   "metadata": {},
   "outputs": [
    {
     "name": "stdout",
     "output_type": "stream",
     "text": [
      "Alabama,Alaska,Arizona,Arkansas,California,Colorado,Connecticut,Delaware,District of Columbia,Florida,Georgia_(U.S._state),Hawaii,Idaho,Illinois,Indiana,Iowa,Kansas,Kentucky,Louisiana,Maine,Maryland,Massachusetts,Michigan,Minnesota,Mississippi,Missouri,Montana,Nebraska,Nevada,New_Hampshire,New_Jersey,New_Mexico,New_York,North_Carolina,North_Dakota,Ohio,Oklahoma,Oregon,Pennsylvania,Rhode_Island,South_Carolina,South_Dakota,Tennessee,Texas,Utah,Vermont,Virginia,Washington,West_Virginia,Wisconsin,Wyoming,"
     ]
    }
   ],
   "source": [
    "wiki_scraper = covid19_WebScrapes.Wiki_Scrape()\n",
    "\n",
    "county_areas = wiki_scraper.Scrape_Counties()"
   ]
  },
  {
   "cell_type": "code",
   "execution_count": 8,
   "metadata": {},
   "outputs": [],
   "source": [
    "County_Areas = pd.DataFrame(county_areas,columns=['State','County_FIPS','County','Area (sqmi)'])"
   ]
  },
  {
   "cell_type": "code",
   "execution_count": 9,
   "metadata": {},
   "outputs": [],
   "source": [
    "County_Areas['Area (sqmi)'] = County_Areas['Area (sqmi)'] .apply(lambda x : str(x).replace(',',''))\n",
    "County_Areas['Area (sqmi)'] = County_Areas['Area (sqmi)'].astype(float)"
   ]
  },
  {
   "cell_type": "code",
   "execution_count": 13,
   "metadata": {},
   "outputs": [
    {
     "data": {
      "text/html": [
       "<div>\n",
       "<style scoped>\n",
       "    .dataframe tbody tr th:only-of-type {\n",
       "        vertical-align: middle;\n",
       "    }\n",
       "\n",
       "    .dataframe tbody tr th {\n",
       "        vertical-align: top;\n",
       "    }\n",
       "\n",
       "    .dataframe thead th {\n",
       "        text-align: right;\n",
       "    }\n",
       "</style>\n",
       "<table border=\"1\" class=\"dataframe\">\n",
       "  <thead>\n",
       "    <tr style=\"text-align: right;\">\n",
       "      <th></th>\n",
       "      <th>State</th>\n",
       "      <th>County_FIPS</th>\n",
       "      <th>County</th>\n",
       "      <th>Area (sqmi)</th>\n",
       "    </tr>\n",
       "  </thead>\n",
       "  <tbody>\n",
       "    <tr>\n",
       "      <th>0</th>\n",
       "      <td>Alabama</td>\n",
       "      <td>001</td>\n",
       "      <td>Autauga County</td>\n",
       "      <td>594.44</td>\n",
       "    </tr>\n",
       "    <tr>\n",
       "      <th>1</th>\n",
       "      <td>Alabama</td>\n",
       "      <td>003</td>\n",
       "      <td>Baldwin County</td>\n",
       "      <td>1589.78</td>\n",
       "    </tr>\n",
       "    <tr>\n",
       "      <th>2</th>\n",
       "      <td>Alabama</td>\n",
       "      <td>005</td>\n",
       "      <td>Barbour County</td>\n",
       "      <td>884.88</td>\n",
       "    </tr>\n",
       "    <tr>\n",
       "      <th>3</th>\n",
       "      <td>Alabama</td>\n",
       "      <td>007</td>\n",
       "      <td>Bibb County</td>\n",
       "      <td>622.58</td>\n",
       "    </tr>\n",
       "    <tr>\n",
       "      <th>4</th>\n",
       "      <td>Alabama</td>\n",
       "      <td>009</td>\n",
       "      <td>Blount County</td>\n",
       "      <td>644.78</td>\n",
       "    </tr>\n",
       "  </tbody>\n",
       "</table>\n",
       "</div>"
      ],
      "text/plain": [
       "     State County_FIPS          County  Area (sqmi)\n",
       "0  Alabama         001  Autauga County       594.44\n",
       "1  Alabama         003  Baldwin County      1589.78\n",
       "2  Alabama         005  Barbour County       884.88\n",
       "3  Alabama         007     Bibb County       622.58\n",
       "4  Alabama         009   Blount County       644.78"
      ]
     },
     "execution_count": 13,
     "metadata": {},
     "output_type": "execute_result"
    }
   ],
   "source": [
    "County_Areas.head()"
   ]
  },
  {
   "cell_type": "markdown",
   "metadata": {},
   "source": [
    "# Read in Alphabet Location Data"
   ]
  },
  {
   "cell_type": "code",
   "execution_count": 11,
   "metadata": {
    "scrolled": true
   },
   "outputs": [
    {
     "data": {
      "text/html": [
       "<div>\n",
       "<style scoped>\n",
       "    .dataframe tbody tr th:only-of-type {\n",
       "        vertical-align: middle;\n",
       "    }\n",
       "\n",
       "    .dataframe tbody tr th {\n",
       "        vertical-align: top;\n",
       "    }\n",
       "\n",
       "    .dataframe thead th {\n",
       "        text-align: right;\n",
       "    }\n",
       "</style>\n",
       "<table border=\"1\" class=\"dataframe\">\n",
       "  <thead>\n",
       "    <tr style=\"text-align: right;\">\n",
       "      <th></th>\n",
       "      <th>country_region_code</th>\n",
       "      <th>country_region</th>\n",
       "      <th>sub_region_1</th>\n",
       "      <th>sub_region_2</th>\n",
       "      <th>date</th>\n",
       "      <th>retail_and_recreation_percent_change_from_baseline</th>\n",
       "      <th>grocery_and_pharmacy_percent_change_from_baseline</th>\n",
       "      <th>parks_percent_change_from_baseline</th>\n",
       "      <th>transit_stations_percent_change_from_baseline</th>\n",
       "      <th>workplaces_percent_change_from_baseline</th>\n",
       "      <th>residential_percent_change_from_baseline</th>\n",
       "    </tr>\n",
       "  </thead>\n",
       "  <tbody>\n",
       "    <tr>\n",
       "      <th>108360</th>\n",
       "      <td>US</td>\n",
       "      <td>United States</td>\n",
       "      <td>Alabama</td>\n",
       "      <td>Autauga County</td>\n",
       "      <td>02/15/20</td>\n",
       "      <td>5.0</td>\n",
       "      <td>7.0</td>\n",
       "      <td>NaN</td>\n",
       "      <td>NaN</td>\n",
       "      <td>-4.0</td>\n",
       "      <td>NaN</td>\n",
       "    </tr>\n",
       "    <tr>\n",
       "      <th>108361</th>\n",
       "      <td>US</td>\n",
       "      <td>United States</td>\n",
       "      <td>Alabama</td>\n",
       "      <td>Autauga County</td>\n",
       "      <td>02/16/20</td>\n",
       "      <td>0.0</td>\n",
       "      <td>1.0</td>\n",
       "      <td>-23.0</td>\n",
       "      <td>NaN</td>\n",
       "      <td>-4.0</td>\n",
       "      <td>NaN</td>\n",
       "    </tr>\n",
       "    <tr>\n",
       "      <th>108362</th>\n",
       "      <td>US</td>\n",
       "      <td>United States</td>\n",
       "      <td>Alabama</td>\n",
       "      <td>Autauga County</td>\n",
       "      <td>02/17/20</td>\n",
       "      <td>8.0</td>\n",
       "      <td>0.0</td>\n",
       "      <td>NaN</td>\n",
       "      <td>NaN</td>\n",
       "      <td>-27.0</td>\n",
       "      <td>5.0</td>\n",
       "    </tr>\n",
       "    <tr>\n",
       "      <th>108363</th>\n",
       "      <td>US</td>\n",
       "      <td>United States</td>\n",
       "      <td>Alabama</td>\n",
       "      <td>Autauga County</td>\n",
       "      <td>02/18/20</td>\n",
       "      <td>-2.0</td>\n",
       "      <td>0.0</td>\n",
       "      <td>NaN</td>\n",
       "      <td>NaN</td>\n",
       "      <td>2.0</td>\n",
       "      <td>0.0</td>\n",
       "    </tr>\n",
       "    <tr>\n",
       "      <th>108364</th>\n",
       "      <td>US</td>\n",
       "      <td>United States</td>\n",
       "      <td>Alabama</td>\n",
       "      <td>Autauga County</td>\n",
       "      <td>02/19/20</td>\n",
       "      <td>-2.0</td>\n",
       "      <td>0.0</td>\n",
       "      <td>NaN</td>\n",
       "      <td>NaN</td>\n",
       "      <td>2.0</td>\n",
       "      <td>0.0</td>\n",
       "    </tr>\n",
       "  </tbody>\n",
       "</table>\n",
       "</div>"
      ],
      "text/plain": [
       "       country_region_code country_region sub_region_1    sub_region_2  \\\n",
       "108360                  US  United States      Alabama  Autauga County   \n",
       "108361                  US  United States      Alabama  Autauga County   \n",
       "108362                  US  United States      Alabama  Autauga County   \n",
       "108363                  US  United States      Alabama  Autauga County   \n",
       "108364                  US  United States      Alabama  Autauga County   \n",
       "\n",
       "            date  retail_and_recreation_percent_change_from_baseline  \\\n",
       "108360  02/15/20                                                5.0    \n",
       "108361  02/16/20                                                0.0    \n",
       "108362  02/17/20                                                8.0    \n",
       "108363  02/18/20                                               -2.0    \n",
       "108364  02/19/20                                               -2.0    \n",
       "\n",
       "        grocery_and_pharmacy_percent_change_from_baseline  \\\n",
       "108360                                                7.0   \n",
       "108361                                                1.0   \n",
       "108362                                                0.0   \n",
       "108363                                                0.0   \n",
       "108364                                                0.0   \n",
       "\n",
       "        parks_percent_change_from_baseline  \\\n",
       "108360                                 NaN   \n",
       "108361                               -23.0   \n",
       "108362                                 NaN   \n",
       "108363                                 NaN   \n",
       "108364                                 NaN   \n",
       "\n",
       "        transit_stations_percent_change_from_baseline  \\\n",
       "108360                                            NaN   \n",
       "108361                                            NaN   \n",
       "108362                                            NaN   \n",
       "108363                                            NaN   \n",
       "108364                                            NaN   \n",
       "\n",
       "        workplaces_percent_change_from_baseline  \\\n",
       "108360                                     -4.0   \n",
       "108361                                     -4.0   \n",
       "108362                                    -27.0   \n",
       "108363                                      2.0   \n",
       "108364                                      2.0   \n",
       "\n",
       "        residential_percent_change_from_baseline  \n",
       "108360                                       NaN  \n",
       "108361                                       NaN  \n",
       "108362                                       5.0  \n",
       "108363                                       0.0  \n",
       "108364                                       0.0  "
      ]
     },
     "execution_count": 11,
     "metadata": {},
     "output_type": "execute_result"
    }
   ],
   "source": [
    "google = covid19_WebScrapes.Alphabet_Scrape_V2()\n",
    "\n",
    "google_df = google.get_Data(country='United States',country_only=False,state_only=False) #pulls county info only\n",
    "\n",
    "google_df.head()"
   ]
  },
  {
   "cell_type": "markdown",
   "metadata": {},
   "source": [
    "# Clean Dataframes, Add FIPS ID's"
   ]
  },
  {
   "cell_type": "code",
   "execution_count": 14,
   "metadata": {},
   "outputs": [],
   "source": [
    "data_cleaner = covid19_WebScrapes.Clean_Data('manually_pulled/FIPS_Codes_USDA.csv',\n",
    "                                             'manually_pulled/new_state_mapping.txt')\n",
    "\n",
    "area_data_cleaned = data_cleaner.Clean_Area_Data(County_Areas)\n",
    "test_data_cleaned = data_cleaner.Clean_Cases_Data(Testing_DF)\n",
    "google_data_cleaned = data_cleaner.Clean_Loc_Data(google_df)"
   ]
  },
  {
   "cell_type": "markdown",
   "metadata": {},
   "source": [
    "# Write out dataframes"
   ]
  },
  {
   "cell_type": "code",
   "execution_count": 17,
   "metadata": {},
   "outputs": [],
   "source": [
    "folder_name = datetime.datetime.strftime(datetime.datetime.today(),'%d%b%y')\n",
    "os.mkdir('Processed_Data/'+folder_name)\n",
    "\n",
    "test_data_cleaned.to_csv('Processed_Data/'+folder_name+'/CountyLevel_Cases_Cleaned.csv',index=False)\n",
    "Survey_DF_trim.to_csv('Processed_Data/'+folder_name+'/Survey_Data.csv',index=False)\n",
    "area_data_cleaned.to_csv('Processed_Data/'+folder_name+'/CountyLevel_Areas_Cleaned.csv',index=False)\n",
    "google_data_cleaned.to_csv('Processed_Data/'+folder_name+'/CountyLevel_Google_LocData_Cleaned.csv',index=False)"
   ]
  },
  {
   "cell_type": "markdown",
   "metadata": {},
   "source": [
    "# Now Merge Data and Engineer some features"
   ]
  },
  {
   "cell_type": "code",
   "execution_count": 3,
   "metadata": {},
   "outputs": [],
   "source": [
    "data_merger = merge_prep_data.Merge_Data()\n",
    "\n",
    "merged_census_data = data_merger.Merge_Census_Data()\n",
    "merged_scraped_data = data_merger.Merge_Scraped_Data()\n",
    "\n",
    "final_merge = data_merger.MERGE_ALL(merged_scraped_data,merged_census_data)"
   ]
  },
  {
   "cell_type": "code",
   "execution_count": 4,
   "metadata": {},
   "outputs": [],
   "source": [
    "cols_remove = ['State_x','County_FIPS','County','Name','UID','iso2','iso3','code3','Province_State',\n",
    "               'Country_Region','Combined_Key','country_region_code','country_region','sub_region_1',\n",
    "               'sub_region_2','date','unique_id','State_y','STATE_FIPS','Unnamed: 0','county','state_FIPS',\n",
    "              'county_fips']\n",
    "\n",
    "final_merge.drop(cols_remove,axis=1,inplace=True)"
   ]
  },
  {
   "cell_type": "code",
   "execution_count": 5,
   "metadata": {},
   "outputs": [
    {
     "name": "stdout",
     "output_type": "stream",
     "text": [
      "Adding Proximity Logic...\n",
      "Normalizing Stats , lagging features...\n",
      "Interpolating Data...\n",
      "retail_and_recreation_percent_change_from_baseline\n"
     ]
    },
    {
     "name": "stderr",
     "output_type": "stream",
     "text": [
      "./scripts/merge_prep_data.py:235: SettingWithCopyWarning: \n",
      "A value is trying to be set on a copy of a slice from a DataFrame.\n",
      "Try using .loc[row_indexer,col_indexer] = value instead\n",
      "\n",
      "See the caveats in the documentation: https://pandas.pydata.org/pandas-docs/stable/user_guide/indexing.html#returning-a-view-versus-a-copy\n",
      "  DF[col] = DF.groupby('state')[col].apply(lambda group: group.interpolate(method=stat_fill_method,axis=0).ffill().bfill())\n"
     ]
    },
    {
     "name": "stdout",
     "output_type": "stream",
     "text": [
      "grocery_and_pharmacy_percent_change_from_baseline\n",
      "parks_percent_change_from_baseline\n",
      "transit_stations_percent_change_from_baseline\n",
      "workplaces_percent_change_from_baseline\n",
      "residential_percent_change_from_baseline\n"
     ]
    },
    {
     "name": "stderr",
     "output_type": "stream",
     "text": [
      "/Users/petersimone/anaconda3/lib/python3.6/site-packages/pandas/core/indexing.py:966: SettingWithCopyWarning: \n",
      "A value is trying to be set on a copy of a slice from a DataFrame.\n",
      "Try using .loc[row_indexer,col_indexer] = value instead\n",
      "\n",
      "See the caveats in the documentation: https://pandas.pydata.org/pandas-docs/stable/user_guide/indexing.html#returning-a-view-versus-a-copy\n",
      "  self.obj[item] = s\n",
      "./scripts/merge_prep_data.py:239: SettingWithCopyWarning: \n",
      "A value is trying to be set on a copy of a slice from a DataFrame.\n",
      "Try using .loc[row_indexer,col_indexer] = value instead\n",
      "\n",
      "See the caveats in the documentation: https://pandas.pydata.org/pandas-docs/stable/user_guide/indexing.html#returning-a-view-versus-a-copy\n",
      "  DF[col] = DF.groupby('state')[col].apply(lambda group: group.interpolate(method=stat_fill_method,axis=0,).ffill().bfill())\n",
      "./scripts/merge_prep_data.py:159: SettingWithCopyWarning: \n",
      "A value is trying to be set on a copy of a slice from a DataFrame.\n",
      "Try using .loc[row_indexer,col_indexer] = value instead\n",
      "\n",
      "See the caveats in the documentation: https://pandas.pydata.org/pandas-docs/stable/user_guide/indexing.html#returning-a-view-versus-a-copy\n",
      "  DF[col] = DF[col].astype(float)\n"
     ]
    },
    {
     "name": "stdout",
     "output_type": "stream",
     "text": [
      "Couldn't convert Admin2 to float\n",
      "Couldn't convert Date to float\n",
      "Couldn't convert state to float\n",
      "Couldn't convert Closest_Big_City to float\n"
     ]
    }
   ],
   "source": [
    "engineer_feats = merge_prep_data.Engineer_Feats(datatype_write_loc='Merged_Data/data_types.json')\n",
    "\n",
    "DF_out = engineer_feats.Apply_Logic(final_merge)"
   ]
  },
  {
   "cell_type": "code",
   "execution_count": 6,
   "metadata": {},
   "outputs": [],
   "source": [
    "cols_keep = ['FIPS','state','Admin2','Lat','Long_','Date',\n",
    "             'Positive','Deaths','Positive_Cases_PopNormed','Deaths_PopNormed',\n",
    "             'New_Positive_Cases_PopNormed_Lagged',\n",
    "             'New_Positive_Cases_PopNormed',\n",
    "             'Area (sqmi)','population','Proximity','Population_Density','Percent_in_Workforce',\n",
    "             'Households_per_SqMile',\n",
    "             'retail_and_recreation_percent_change_from_baseline',\n",
    "             'grocery_and_pharmacy_percent_change_from_baseline',\n",
    "             'parks_percent_change_from_baseline',\n",
    "             'transit_stations_percent_change_from_baseline',\n",
    "             'workplaces_percent_change_from_baseline',\n",
    "             'residential_percent_change_from_baseline',\n",
    "             'Mass gathering restrictions', 'Initial business closure',\n",
    "             'Educational facilities closed', 'Non-essential services closed',\n",
    "             'Stay at home order', 'Travel severely limited',\n",
    "             '%_family_households', '%_single_male_households',\n",
    "             '%_single_female_households', '%_living_alone',\n",
    "             'total_household_income', 'household_income_less_than_25_years',\n",
    "             'household_income_25_to_45_years', 'household_income_45_to_65_years',\n",
    "             'household_income_65_and_older',\n",
    "             '%_households_with_earnings_last12',\n",
    "             '%_households_with_no_earnings_last12', '%_in_poverty',\n",
    "             '%_in_poverty_18_to_59', '%_in_poverty_60_to_74',\n",
    "             '%_in_poverty_75_to_85',\n",
    "             '%_white', '%_black',\n",
    "             '$_other_race', \n",
    "             '%_male', '%_female', \n",
    "             '%_male_pop_greater_than_60','%_female_pop_greater_than_60',\n",
    "             '%_workers_less_than_15_to_work', '%_workers_15_to_45_to_work',\n",
    "             '%_workers_greater_than_45_to_work',\n",
    "             '%_drive_alone_to_work', '%_carpool_to_work',\n",
    "             '%_public_transit_to_work', '%_bus_trolley_to_work', '%_walked_to_work',\n",
    "             '%_cab_other_means_of_transportation_to_work','jail_incarceration_rate_per_100k']"
   ]
  },
  {
   "cell_type": "code",
   "execution_count": 7,
   "metadata": {},
   "outputs": [],
   "source": [
    "DF_write = DF_out[cols_keep]"
   ]
  },
  {
   "cell_type": "code",
   "execution_count": 8,
   "metadata": {},
   "outputs": [],
   "source": [
    "engineer_feats.write_out_json(DF_write)"
   ]
  },
  {
   "cell_type": "code",
   "execution_count": 42,
   "metadata": {},
   "outputs": [
    {
     "name": "stdout",
     "output_type": "stream",
     "text": [
      "splitting dataframes for Github push purposes\n"
     ]
    }
   ],
   "source": [
    "folder_name = datetime.datetime.strftime(datetime.datetime.today(),'%d%b%y')\n",
    "if not os.path.exists('Merged_Data/'+folder_name) :\n",
    "    os.mkdir('Merged_Data/'+folder_name)\n",
    "    \n",
    "memory_use = DF_write.memory_usage(deep=True,index=False).sum()    \n",
    "\n",
    "if memory_use > 1e8 :\n",
    "    print('splitting dataframes for Github push purposes')\n",
    "    break_val = int((DF_write.shape[0] * 45000000)/memory_use)\n",
    "    for i in range(int(np.ceil(DF_write.shape[0]/break_val))) :\n",
    "        name_write = 'Merged_Data/'+folder_name+'/Final_Merged_Pt{}.csv'.format(i+1)\n",
    "        chunk_write = DF_write.iloc[break_val*i : break_val*(i+1)]\n",
    "        chunk_write.to_csv(name_write,index=False)\n",
    "else :\n",
    "    DF_write.to_csv('Merged_Data/'+folder_name+'/Final_Merged.csv',index=False) #write out csv file"
   ]
  }
 ],
 "metadata": {
  "kernelspec": {
   "display_name": "Python 3",
   "language": "python",
   "name": "python3"
  },
  "language_info": {
   "codemirror_mode": {
    "name": "ipython",
    "version": 3
   },
   "file_extension": ".py",
   "mimetype": "text/x-python",
   "name": "python",
   "nbconvert_exporter": "python",
   "pygments_lexer": "ipython3",
   "version": "3.6.8"
  }
 },
 "nbformat": 4,
 "nbformat_minor": 4
}
